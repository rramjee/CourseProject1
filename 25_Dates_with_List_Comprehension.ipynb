{
  "nbformat": 4,
  "nbformat_minor": 0,
  "metadata": {
    "colab": {
      "name": "25 Dates with List Comprehension.ipynb",
      "provenance": [],
      "collapsed_sections": [],
      "authorship_tag": "ABX9TyOsIYbSuTuAMe8QrvqRIgqD",
      "include_colab_link": true
    },
    "kernelspec": {
      "name": "python3",
      "display_name": "Python 3"
    },
    "language_info": {
      "name": "python"
    }
  },
  "cells": [
    {
      "cell_type": "markdown",
      "metadata": {
        "id": "view-in-github",
        "colab_type": "text"
      },
      "source": [
        "<a href=\"https://colab.research.google.com/github/rramjee/CourseProject1/blob/master/25_Dates_with_List_Comprehension.ipynb\" target=\"_parent\"><img src=\"https://colab.research.google.com/assets/colab-badge.svg\" alt=\"Open In Colab\"/></a>"
      ]
    },
    {
      "cell_type": "code",
      "metadata": {
        "colab": {
          "base_uri": "https://localhost:8080/"
        },
        "id": "mY-LPXxrfTAC",
        "outputId": "bf5a4c0f-ef7b-457f-8754-3b1cec689b2d"
      },
      "source": [
        "from datetime import datetime\n",
        "print(datetime.now())\n",
        "import random\n",
        "import pandas as pd"
      ],
      "execution_count": null,
      "outputs": [
        {
          "output_type": "stream",
          "text": [
            "2021-06-07 15:11:33.714843\n"
          ],
          "name": "stdout"
        }
      ]
    },
    {
      "cell_type": "code",
      "metadata": {
        "colab": {
          "base_uri": "https://localhost:8080/"
        },
        "id": "zWQUYwKqwZED",
        "outputId": "9115acfd-c13a-4a6c-b48c-8ccba81e727d"
      },
      "source": [
        "datelist = [t.strftime('%b,%dth,%Y') if int(t.strftime('%d')) in (11,12,13) else {1:t.strftime('%b,%dst,%Y') ,2:t.strftime('%b,%dnd,%Y'),3:t.strftime('%b,%drd,%Y')}.get(int(t.strftime('%d'))%10, t.strftime('%b,%dth,%Y')) for t in pd.date_range('10-02-1901','02-02-2021',periods = 25)]\n",
        "datelist"
      ],
      "execution_count": null,
      "outputs": [
        {
          "output_type": "execute_result",
          "data": {
            "text/plain": [
              "['Oct,02nd,1901',\n",
              " 'Sep,22nd,1906',\n",
              " 'Sep,12th,1911',\n",
              " 'Sep,01st,1916',\n",
              " 'Aug,22nd,1921',\n",
              " 'Aug,12th,1926',\n",
              " 'Aug,03rd,1931',\n",
              " 'Jul,23rd,1936',\n",
              " 'Jul,13th,1941',\n",
              " 'Jul,03rd,1946',\n",
              " 'Jun,23rd,1951',\n",
              " 'Jun,12th,1956',\n",
              " 'Jun,03rd,1961',\n",
              " 'May,24th,1966',\n",
              " 'May,14th,1971',\n",
              " 'May,03rd,1976',\n",
              " 'Apr,23rd,1981',\n",
              " 'Apr,13th,1986',\n",
              " 'Apr,04th,1991',\n",
              " 'Mar,24th,1996',\n",
              " 'Mar,14th,2001',\n",
              " 'Mar,04th,2006',\n",
              " 'Feb,22nd,2011',\n",
              " 'Feb,12th,2016',\n",
              " 'Feb,02nd,2021']"
            ]
          },
          "metadata": {
            "tags": []
          },
          "execution_count": 77
        }
      ]
    },
    {
      "cell_type": "markdown",
      "metadata": {
        "id": "LX5zFvw2MO6H"
      },
      "source": [
        "# New Section"
      ]
    },
    {
      "cell_type": "markdown",
      "metadata": {
        "id": "gPiuwHyAMPZ2"
      },
      "source": [
        "# New Section"
      ]
    },
    {
      "cell_type": "code",
      "metadata": {
        "colab": {
          "base_uri": "https://localhost:8080/"
        },
        "id": "riWpOvDYf__N",
        "outputId": "cac4b430-ee8f-4aea-a09f-7c9863956ba2"
      },
      "source": [
        "from datetime import datetime\n",
        "print(datetime.now())"
      ],
      "execution_count": null,
      "outputs": [
        {
          "output_type": "stream",
          "text": [
            "2021-06-07 15:11:34.450702\n"
          ],
          "name": "stdout"
        }
      ]
    }
  ]
}